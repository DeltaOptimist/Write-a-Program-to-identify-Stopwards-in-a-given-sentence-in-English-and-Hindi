{
  "nbformat": 4,
  "nbformat_minor": 0,
  "metadata": {
    "colab": {
      "name": "Write a Program to identify Stopwards in a given sentence in English and Hindi.ipynb",
      "provenance": []
    },
    "kernelspec": {
      "name": "python3",
      "display_name": "Python 3"
    },
    "language_info": {
      "name": "python"
    }
  },
  "cells": [
    {
      "cell_type": "code",
      "metadata": {
        "colab": {
          "base_uri": "https://localhost:8080/"
        },
        "id": "nns9kxUFckJg",
        "outputId": "6e25fb93-7b3f-4957-bdee-82e8768ed1e9"
      },
      "source": [
        "import nltk\n",
        "nltk.download('stopwords') # only if all are not downloaded \n",
        "nltk.download('punkt')\n",
        "from nltk.corpus import stopwords\n",
        "from nltk.tokenize import word_tokenize"
      ],
      "execution_count": 1,
      "outputs": [
        {
          "output_type": "stream",
          "text": [
            "[nltk_data] Downloading package stopwords to /root/nltk_data...\n",
            "[nltk_data]   Unzipping corpora/stopwords.zip.\n",
            "[nltk_data] Downloading package punkt to /root/nltk_data...\n",
            "[nltk_data]   Unzipping tokenizers/punkt.zip.\n"
          ],
          "name": "stdout"
        }
      ]
    },
    {
      "cell_type": "code",
      "metadata": {
        "id": "OrtvvOxOdDOD"
      },
      "source": [
        "# Importing the data\n",
        "dataset = \"\"\"They covered the precious mahogany coffin with a brown amalgam of rocks, decomposed organisms, and weeds. \n",
        "             It was my turn to take the shovel, but I felt too ashamed to dutifully send her off when I had not properly said goodbye. \n",
        "             I refused to throw dirt on her. I refused to let go of my grandmother, to accept a death I had not seen coming, \n",
        "             to believe that an illness could not only interrupt, but steal a beloved life.\"\"\""
      ],
      "execution_count": 2,
      "outputs": []
    },
    {
      "cell_type": "code",
      "metadata": {
        "colab": {
          "base_uri": "https://localhost:8080/"
        },
        "id": "ch0hfZZmdd0o",
        "outputId": "ca9a730a-d56d-4eb7-eadb-7297949ce324"
      },
      "source": [
        "# Create a set of English Stop Words\n",
        "stop_words = set(stopwords.words(\"english\"))\n",
        "print(stop_words)\n",
        "\n",
        "print()\n",
        "print(\"Total count of Stopwords :\",len(stop_words))"
      ],
      "execution_count": 11,
      "outputs": [
        {
          "output_type": "stream",
          "text": [
            "{'will', 'our', 'once', 'myself', 'other', 'won', 'weren', \"should've\", 'haven', 'such', 'this', 'both', \"shouldn't\", 'we', 'y', \"you've\", 'to', 'from', 'nor', 'of', 'doing', \"weren't\", 'between', \"wouldn't\", 'he', 'ma', 'what', 'by', 'out', 'there', 'me', 'which', 'needn', 'now', 'they', 'before', 'down', 'under', 'those', 'with', 'am', 'she', 'further', \"hadn't\", 'him', 'because', 'all', 've', 'where', 'against', 't', 'can', \"mightn't\", 'yourself', 'too', 'and', 'during', 'herself', 'why', 'each', 'don', 'same', \"didn't\", \"mustn't\", 'who', \"don't\", 'didn', 'through', 'his', 'should', 'her', 'isn', 'when', 'does', 'in', \"you're\", 'himself', 'hers', 'their', 'about', 'ourselves', 'below', 'couldn', 'again', 'are', 'itself', 'how', 'hadn', 'has', 'yours', 'yourselves', 'than', 'a', \"aren't\", 'if', 'you', 'after', 'was', 'an', \"you'll\", 'few', 'hasn', 'as', \"needn't\", \"shan't\", 'shan', \"it's\", 'aren', 'mustn', 'at', 'ain', 'for', \"wasn't\", 'shouldn', 'did', 'above', 'very', 'only', \"you'd\", \"that'll\", 'theirs', 'that', 'these', 'up', 'while', 's', 'been', 'my', 'm', 'them', 'on', 'the', 'then', 'or', 'no', 'doesn', 'your', 'whom', 'having', 'into', 'own', 'll', 'over', 'wasn', \"couldn't\", \"isn't\", 'do', \"she's\", 'wouldn', 'some', 'just', 'being', 'any', 'more', 'themselves', 'it', 'be', 'not', 'here', 'is', 'have', 'o', 'mightn', 'off', 'until', 'ours', 'd', 'but', 'so', \"doesn't\", 'its', 'were', 'had', 're', \"won't\", \"hasn't\", 'i', \"haven't\", 'most'}\n",
            "\n",
            "Total count of Stopwords : 179\n"
          ],
          "name": "stdout"
        }
      ]
    },
    {
      "cell_type": "code",
      "metadata": {
        "colab": {
          "base_uri": "https://localhost:8080/"
        },
        "id": "kfgrbr1rdgGh",
        "outputId": "b2f9821a-fd4a-4558-db88-9a23da8e3814"
      },
      "source": [
        "# Tokenize the dataset\n",
        "words = word_tokenize(dataset)\n",
        "print(words)\n",
        "print()\n",
        "print(\"Total words :\",len(words))\n"
      ],
      "execution_count": 10,
      "outputs": [
        {
          "output_type": "stream",
          "text": [
            "['They', 'covered', 'the', 'precious', 'mahogany', 'coffin', 'with', 'a', 'brown', 'amalgam', 'of', 'rocks', ',', 'decomposed', 'organisms', ',', 'and', 'weeds', '.', 'It', 'was', 'my', 'turn', 'to', 'take', 'the', 'shovel', ',', 'but', 'I', 'felt', 'too', 'ashamed', 'to', 'dutifully', 'send', 'her', 'off', 'when', 'I', 'had', 'not', 'properly', 'said', 'goodbye', '.', 'I', 'refused', 'to', 'throw', 'dirt', 'on', 'her', '.', 'I', 'refused', 'to', 'let', 'go', 'of', 'my', 'grandmother', ',', 'to', 'accept', 'a', 'death', 'I', 'had', 'not', 'seen', 'coming', ',', 'to', 'believe', 'that', 'an', 'illness', 'could', 'not', 'only', 'interrupt', ',', 'but', 'steal', 'a', 'beloved', 'life', '.']\n",
            "\n",
            "Total words : 89\n"
          ],
          "name": "stdout"
        }
      ]
    },
    {
      "cell_type": "code",
      "metadata": {
        "colab": {
          "base_uri": "https://localhost:8080/"
        },
        "id": "86gtJjzKdyxd",
        "outputId": "2f623d36-ee92-4476-b592-499125892cf3"
      },
      "source": [
        "# Create the list of dataset without stop words\n",
        "filtered_sentence = []\n",
        "\n",
        "for w in words:\n",
        "    if w not in stop_words:\n",
        "        filtered_sentence.append(w)\n",
        "\n",
        "print(filtered_sentence)\n",
        "print()\n",
        "print(\"After removing stopwords\", len(filtered_sentence))"
      ],
      "execution_count": 9,
      "outputs": [
        {
          "output_type": "stream",
          "text": [
            "['They', 'covered', 'precious', 'mahogany', 'coffin', 'brown', 'amalgam', 'rocks', ',', 'decomposed', 'organisms', ',', 'weeds', '.', 'It', 'turn', 'take', 'shovel', ',', 'I', 'felt', 'ashamed', 'dutifully', 'send', 'I', 'properly', 'said', 'goodbye', '.', 'I', 'refused', 'throw', 'dirt', '.', 'I', 'refused', 'let', 'go', 'grandmother', ',', 'accept', 'death', 'I', 'seen', 'coming', ',', 'believe', 'illness', 'could', 'interrupt', ',', 'steal', 'beloved', 'life', '.']\n",
            "\n",
            "After removing stopwords 55\n"
          ],
          "name": "stdout"
        }
      ]
    },
    {
      "cell_type": "markdown",
      "metadata": {
        "id": "bxrIvPZRiAYT"
      },
      "source": [
        "Hindi Stopwords"
      ]
    },
    {
      "cell_type": "code",
      "metadata": {
        "colab": {
          "resources": {
            "http://localhost:8080/nbextensions/google.colab/files.js": {
              "data": "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",
              "ok": true,
              "headers": [
                [
                  "content-type",
                  "application/javascript"
                ]
              ],
              "status": 200,
              "status_text": ""
            }
          },
          "base_uri": "https://localhost:8080/",
          "height": 73
        },
        "id": "4R-uWGXxgJ9e",
        "outputId": "d5518f56-fb82-478e-9245-3af2042ddf7f"
      },
      "source": [
        "from google.colab import files\n",
        "uploaded = files.upload()"
      ],
      "execution_count": 16,
      "outputs": [
        {
          "output_type": "display_data",
          "data": {
            "text/html": [
              "\n",
              "     <input type=\"file\" id=\"files-a532f763-07f9-4c25-bc10-192951db7edd\" name=\"files[]\" multiple disabled\n",
              "        style=\"border:none\" />\n",
              "     <output id=\"result-a532f763-07f9-4c25-bc10-192951db7edd\">\n",
              "      Upload widget is only available when the cell has been executed in the\n",
              "      current browser session. Please rerun this cell to enable.\n",
              "      </output>\n",
              "      <script src=\"/nbextensions/google.colab/files.js\"></script> "
            ],
            "text/plain": [
              "<IPython.core.display.HTML object>"
            ]
          },
          "metadata": {
            "tags": []
          }
        },
        {
          "output_type": "stream",
          "text": [
            "Saving stopwords-hi.txt to stopwords-hi (1).txt\n"
          ],
          "name": "stdout"
        }
      ]
    },
    {
      "cell_type": "code",
      "metadata": {
        "colab": {
          "base_uri": "https://localhost:8080/"
        },
        "id": "wGDxerMsfkLN",
        "outputId": "e46cfc26-c1f7-43a2-e60b-09c166d167e2"
      },
      "source": [
        "file_name = \"stopwords-hi.txt\"\n",
        "uploaded[file_name].decode(\"utf-8\").split(\"\\r\\n\")\n",
        "\n",
        "#data = uploaded[file_name].decode(\"utf-8\").split(\"\\n\")"
      ],
      "execution_count": 17,
      "outputs": [
        {
          "output_type": "execute_result",
          "data": {
            "text/plain": [
              "['अंदर\\nअत\\nअदि\\nअप\\nअपना\\nअपनि\\nअपनी\\nअपने\\nअभि\\nअभी\\nआदि\\nआप\\nइंहिं\\nइंहें\\nइंहों\\nइतयादि\\nइत्यादि\\nइन\\nइनका\\nइन्हीं\\nइन्हें\\nइन्हों\\nइस\\nइसका\\nइसकि\\nइसकी\\nइसके\\nइसमें\\nइसि\\nइसी\\nइसे\\nउंहिं\\nउंहें\\nउंहों\\nउन\\nउनका\\nउनकि\\nउनकी\\nउनके\\nउनको\\nउन्हीं\\nउन्हें\\nउन्हों\\nउस\\nउसके\\nउसि\\nउसी\\nउसे\\nएक\\nएवं\\nएस\\nएसे\\nऐसे\\nओर\\nऔर\\nकइ\\nकई\\nकर\\nकरता\\nकरते\\nकरना\\nकरने\\nकरें\\nकहते\\nकहा\\nका\\nकाफि\\nकाफ़ी\\nकि\\nकिंहें\\nकिंहों\\nकितना\\nकिन्हें\\nकिन्हों\\nकिया\\nकिर\\nकिस\\nकिसि\\nकिसी\\nकिसे\\nकी\\nकुछ\\nकुल\\nके\\nको\\nकोइ\\nकोई\\nकोन\\nकोनसा\\nकौन\\nकौनसा\\nगया\\nघर\\nजब\\nजहाँ\\nजहां\\nजा\\nजिंहें\\nजिंहों\\nजितना\\nजिधर\\nजिन\\nजिन्हें\\nजिन्हों\\nजिस\\nजिसे\\nजीधर\\nजेसा\\nजेसे\\nजैसा\\nजैसे\\nजो\\nतक\\nतब\\nतरह\\nतिंहें\\nतिंहों\\nतिन\\nतिन्हें\\nतिन्हों\\nतिस\\nतिसे\\nतो\\nथा\\nथि\\nथी\\nथे\\nदबारा\\nदवारा\\nदिया\\nदुसरा\\nदुसरे\\nदूसरे\\nदो\\nद्वारा\\nन\\nनहिं\\nनहीं\\nना\\nनिचे\\nनिहायत\\nनीचे\\nने\\nपर\\nपहले\\nपुरा\\nपूरा\\nपे\\nफिर\\nबनि\\nबनी\\nबहि\\nबही\\nबहुत\\nबाद\\nबाला\\nबिलकुल\\nभि\\nभितर\\nभी\\nभीतर\\nमगर\\nमानो\\nमे\\nमें\\nयदि\\nयह\\nयहाँ\\nयहां\\nयहि\\nयही\\nया\\nयिह\\nये\\nरखें\\nरवासा\\nरहा\\nरहे\\nऱ्वासा\\nलिए\\nलिये\\nलेकिन\\nव\\nवगेरह\\nवरग\\nवर्ग\\nवह\\nवहाँ\\nवहां\\nवहिं\\nवहीं\\nवाले\\nवुह\\nवे\\nवग़ैरह\\nसंग\\nसकता\\nसकते\\nसबसे\\nसभि\\nसभी\\nसाथ\\nसाबुत\\nसाभ\\nसारा\\nसे\\nसो\\nहि\\nही\\nहुअ\\nहुआ\\nहुइ\\nहुई\\nहुए\\nहे\\nहें\\nहै\\nहैं\\nहो\\nहोता\\nहोति\\nहोती\\nहोते\\nहोना\\nहोने']"
            ]
          },
          "metadata": {
            "tags": []
          },
          "execution_count": 17
        }
      ]
    },
    {
      "cell_type": "code",
      "metadata": {
        "colab": {
          "base_uri": "https://localhost:8080/"
        },
        "id": "uaGsd1eaf10c",
        "outputId": "36d87721-c1d3-4225-8a67-6c0d3e9a3a4e"
      },
      "source": [
        "#removing \\n and storting the data into a List\n",
        "data = uploaded[file_name].decode(\"utf-8\").split(\"\\n\")\n",
        "for i in range(len(data)):\n",
        "  data[i] = data[i].split(\",\")\n",
        "print(data)"
      ],
      "execution_count": 18,
      "outputs": [
        {
          "output_type": "stream",
          "text": [
            "[['अंदर'], ['अत'], ['अदि'], ['अप'], ['अपना'], ['अपनि'], ['अपनी'], ['अपने'], ['अभि'], ['अभी'], ['आदि'], ['आप'], ['इंहिं'], ['इंहें'], ['इंहों'], ['इतयादि'], ['इत्यादि'], ['इन'], ['इनका'], ['इन्हीं'], ['इन्हें'], ['इन्हों'], ['इस'], ['इसका'], ['इसकि'], ['इसकी'], ['इसके'], ['इसमें'], ['इसि'], ['इसी'], ['इसे'], ['उंहिं'], ['उंहें'], ['उंहों'], ['उन'], ['उनका'], ['उनकि'], ['उनकी'], ['उनके'], ['उनको'], ['उन्हीं'], ['उन्हें'], ['उन्हों'], ['उस'], ['उसके'], ['उसि'], ['उसी'], ['उसे'], ['एक'], ['एवं'], ['एस'], ['एसे'], ['ऐसे'], ['ओर'], ['और'], ['कइ'], ['कई'], ['कर'], ['करता'], ['करते'], ['करना'], ['करने'], ['करें'], ['कहते'], ['कहा'], ['का'], ['काफि'], ['काफ़ी'], ['कि'], ['किंहें'], ['किंहों'], ['कितना'], ['किन्हें'], ['किन्हों'], ['किया'], ['किर'], ['किस'], ['किसि'], ['किसी'], ['किसे'], ['की'], ['कुछ'], ['कुल'], ['के'], ['को'], ['कोइ'], ['कोई'], ['कोन'], ['कोनसा'], ['कौन'], ['कौनसा'], ['गया'], ['घर'], ['जब'], ['जहाँ'], ['जहां'], ['जा'], ['जिंहें'], ['जिंहों'], ['जितना'], ['जिधर'], ['जिन'], ['जिन्हें'], ['जिन्हों'], ['जिस'], ['जिसे'], ['जीधर'], ['जेसा'], ['जेसे'], ['जैसा'], ['जैसे'], ['जो'], ['तक'], ['तब'], ['तरह'], ['तिंहें'], ['तिंहों'], ['तिन'], ['तिन्हें'], ['तिन्हों'], ['तिस'], ['तिसे'], ['तो'], ['था'], ['थि'], ['थी'], ['थे'], ['दबारा'], ['दवारा'], ['दिया'], ['दुसरा'], ['दुसरे'], ['दूसरे'], ['दो'], ['द्वारा'], ['न'], ['नहिं'], ['नहीं'], ['ना'], ['निचे'], ['निहायत'], ['नीचे'], ['ने'], ['पर'], ['पहले'], ['पुरा'], ['पूरा'], ['पे'], ['फिर'], ['बनि'], ['बनी'], ['बहि'], ['बही'], ['बहुत'], ['बाद'], ['बाला'], ['बिलकुल'], ['भि'], ['भितर'], ['भी'], ['भीतर'], ['मगर'], ['मानो'], ['मे'], ['में'], ['यदि'], ['यह'], ['यहाँ'], ['यहां'], ['यहि'], ['यही'], ['या'], ['यिह'], ['ये'], ['रखें'], ['रवासा'], ['रहा'], ['रहे'], ['ऱ्वासा'], ['लिए'], ['लिये'], ['लेकिन'], ['व'], ['वगेरह'], ['वरग'], ['वर्ग'], ['वह'], ['वहाँ'], ['वहां'], ['वहिं'], ['वहीं'], ['वाले'], ['वुह'], ['वे'], ['वग़ैरह'], ['संग'], ['सकता'], ['सकते'], ['सबसे'], ['सभि'], ['सभी'], ['साथ'], ['साबुत'], ['साभ'], ['सारा'], ['से'], ['सो'], ['हि'], ['ही'], ['हुअ'], ['हुआ'], ['हुइ'], ['हुई'], ['हुए'], ['हे'], ['हें'], ['है'], ['हैं'], ['हो'], ['होता'], ['होति'], ['होती'], ['होते'], ['होना'], ['होने']]\n"
          ],
          "name": "stdout"
        }
      ]
    },
    {
      "cell_type": "code",
      "metadata": {
        "colab": {
          "base_uri": "https://localhost:8080/"
        },
        "id": "W9svAJFQgnP_",
        "outputId": "a581eb4b-f9f8-4bec-f2c2-e9a12b70f3c4"
      },
      "source": [
        "#to convert nested List to a single List\n",
        "from collections import Iterable\n",
        "def flatten(data):\n",
        "     for item in data:\n",
        "         if isinstance(item, Iterable) and not isinstance(item, str):\n",
        "             for x in flatten(item):\n",
        "                 yield x\n",
        "         else:        \n",
        "             yield item\n",
        "dataNew = list(flatten(data))\n",
        "print(dataNew)"
      ],
      "execution_count": 19,
      "outputs": [
        {
          "output_type": "stream",
          "text": [
            "['अंदर', 'अत', 'अदि', 'अप', 'अपना', 'अपनि', 'अपनी', 'अपने', 'अभि', 'अभी', 'आदि', 'आप', 'इंहिं', 'इंहें', 'इंहों', 'इतयादि', 'इत्यादि', 'इन', 'इनका', 'इन्हीं', 'इन्हें', 'इन्हों', 'इस', 'इसका', 'इसकि', 'इसकी', 'इसके', 'इसमें', 'इसि', 'इसी', 'इसे', 'उंहिं', 'उंहें', 'उंहों', 'उन', 'उनका', 'उनकि', 'उनकी', 'उनके', 'उनको', 'उन्हीं', 'उन्हें', 'उन्हों', 'उस', 'उसके', 'उसि', 'उसी', 'उसे', 'एक', 'एवं', 'एस', 'एसे', 'ऐसे', 'ओर', 'और', 'कइ', 'कई', 'कर', 'करता', 'करते', 'करना', 'करने', 'करें', 'कहते', 'कहा', 'का', 'काफि', 'काफ़ी', 'कि', 'किंहें', 'किंहों', 'कितना', 'किन्हें', 'किन्हों', 'किया', 'किर', 'किस', 'किसि', 'किसी', 'किसे', 'की', 'कुछ', 'कुल', 'के', 'को', 'कोइ', 'कोई', 'कोन', 'कोनसा', 'कौन', 'कौनसा', 'गया', 'घर', 'जब', 'जहाँ', 'जहां', 'जा', 'जिंहें', 'जिंहों', 'जितना', 'जिधर', 'जिन', 'जिन्हें', 'जिन्हों', 'जिस', 'जिसे', 'जीधर', 'जेसा', 'जेसे', 'जैसा', 'जैसे', 'जो', 'तक', 'तब', 'तरह', 'तिंहें', 'तिंहों', 'तिन', 'तिन्हें', 'तिन्हों', 'तिस', 'तिसे', 'तो', 'था', 'थि', 'थी', 'थे', 'दबारा', 'दवारा', 'दिया', 'दुसरा', 'दुसरे', 'दूसरे', 'दो', 'द्वारा', 'न', 'नहिं', 'नहीं', 'ना', 'निचे', 'निहायत', 'नीचे', 'ने', 'पर', 'पहले', 'पुरा', 'पूरा', 'पे', 'फिर', 'बनि', 'बनी', 'बहि', 'बही', 'बहुत', 'बाद', 'बाला', 'बिलकुल', 'भि', 'भितर', 'भी', 'भीतर', 'मगर', 'मानो', 'मे', 'में', 'यदि', 'यह', 'यहाँ', 'यहां', 'यहि', 'यही', 'या', 'यिह', 'ये', 'रखें', 'रवासा', 'रहा', 'रहे', 'ऱ्वासा', 'लिए', 'लिये', 'लेकिन', 'व', 'वगेरह', 'वरग', 'वर्ग', 'वह', 'वहाँ', 'वहां', 'वहिं', 'वहीं', 'वाले', 'वुह', 'वे', 'वग़ैरह', 'संग', 'सकता', 'सकते', 'सबसे', 'सभि', 'सभी', 'साथ', 'साबुत', 'साभ', 'सारा', 'से', 'सो', 'हि', 'ही', 'हुअ', 'हुआ', 'हुइ', 'हुई', 'हुए', 'हे', 'हें', 'है', 'हैं', 'हो', 'होता', 'होति', 'होती', 'होते', 'होना', 'होने']\n"
          ],
          "name": "stdout"
        },
        {
          "output_type": "stream",
          "text": [
            "/usr/local/lib/python3.7/dist-packages/ipykernel_launcher.py:2: DeprecationWarning: Using or importing the ABCs from 'collections' instead of from 'collections.abc' is deprecated since Python 3.3,and in 3.9 it will stop working\n",
            "  \n"
          ],
          "name": "stderr"
        }
      ]
    },
    {
      "cell_type": "code",
      "metadata": {
        "colab": {
          "base_uri": "https://localhost:8080/"
        },
        "id": "JsbnwGMAg1SI",
        "outputId": "79205590-8914-4d3c-c354-be4913e8136e"
      },
      "source": [
        "import nltk\n",
        "nltk.download('punkt')"
      ],
      "execution_count": 20,
      "outputs": [
        {
          "output_type": "stream",
          "text": [
            "[nltk_data] Downloading package punkt to /root/nltk_data...\n",
            "[nltk_data]   Package punkt is already up-to-date!\n"
          ],
          "name": "stdout"
        },
        {
          "output_type": "execute_result",
          "data": {
            "text/plain": [
              "True"
            ]
          },
          "metadata": {
            "tags": []
          },
          "execution_count": 20
        }
      ]
    },
    {
      "cell_type": "code",
      "metadata": {
        "id": "xIyg8MSeg7Vf"
      },
      "source": [
        "from nltk.corpus import stopwords \n",
        "from nltk.tokenize import word_tokenize, sent_tokenize "
      ],
      "execution_count": 21,
      "outputs": []
    },
    {
      "cell_type": "code",
      "metadata": {
        "id": "IxeMKBlhg-Ft"
      },
      "source": [
        "inText = \"\"\"\n",
        "\n",
        "प्रस्तावना–\n",
        "15 अगस्त 1947 को सैकड़ों वर्षों के दमन, अत्याचार, शोषण और पराधीनता के. कुत्सित पंक से एक पंकज प्रस्फुटित हुआ था–’स्वतन्त्र–भारत’; स्वतन्त्र और स्वाभिमान से गर्वोन्नत भारत, विश्वभर के स्वाधीनता संग्रामों की आशाओं का आकाश–दीप भारत। तब से आज तक हमारा भारत निरन्तर विकास के पथ पर अग्रसर हो रहा है। आज हमारे राजनेता भारत को शीघ्र ही महाशक्ति बनाने का सपना देखने लगे हैं।\n",
        "\n",
        "विकास के विभिन्न सोपान–देश के विकास के विभिन्न सोपानों को निम्नलिखित रूप में प्रस्तुत किया जा सकता है-\n",
        "\n",
        "\"\"\""
      ],
      "execution_count": 22,
      "outputs": []
    },
    {
      "cell_type": "code",
      "metadata": {
        "id": "UCROyHq6hQsM"
      },
      "source": [
        "word_tokens = word_tokenize(inText)\n",
        "stop_words = dataNew"
      ],
      "execution_count": 23,
      "outputs": []
    },
    {
      "cell_type": "code",
      "metadata": {
        "colab": {
          "base_uri": "https://localhost:8080/"
        },
        "id": "GAxAOQAahUE_",
        "outputId": "96590108-435b-4c47-e561-c911577c1d60"
      },
      "source": [
        "print(\"Sentence is:\", inText,\"\\n\")  \n",
        "print(\"Tokens in the above sentence:\", word_tokens,\"\\n\")\n",
        "print(\"Total count:\", len(word_tokens))"
      ],
      "execution_count": 27,
      "outputs": [
        {
          "output_type": "stream",
          "text": [
            "Sentence is: \n",
            "\n",
            "प्रस्तावना–\n",
            "15 अगस्त 1947 को सैकड़ों वर्षों के दमन, अत्याचार, शोषण और पराधीनता के. कुत्सित पंक से एक पंकज प्रस्फुटित हुआ था–’स्वतन्त्र–भारत’; स्वतन्त्र और स्वाभिमान से गर्वोन्नत भारत, विश्वभर के स्वाधीनता संग्रामों की आशाओं का आकाश–दीप भारत। तब से आज तक हमारा भारत निरन्तर विकास के पथ पर अग्रसर हो रहा है। आज हमारे राजनेता भारत को शीघ्र ही महाशक्ति बनाने का सपना देखने लगे हैं।\n",
            "\n",
            "विकास के विभिन्न सोपान–देश के विकास के विभिन्न सोपानों को निम्नलिखित रूप में प्रस्तुत किया जा सकता है-\n",
            "\n",
            " \n",
            "\n",
            "Tokens in the above sentence: ['प्रस्तावना–', '15', 'अगस्त', '1947', 'को', 'सैकड़ों', 'वर्षों', 'के', 'दमन', ',', 'अत्याचार', ',', 'शोषण', 'और', 'पराधीनता', 'के', '.', 'कुत्सित', 'पंक', 'से', 'एक', 'पंकज', 'प्रस्फुटित', 'हुआ', 'था–', '’', 'स्वतन्त्र–भारत', '’', ';', 'स्वतन्त्र', 'और', 'स्वाभिमान', 'से', 'गर्वोन्नत', 'भारत', ',', 'विश्वभर', 'के', 'स्वाधीनता', 'संग्रामों', 'की', 'आशाओं', 'का', 'आकाश–दीप', 'भारत।', 'तब', 'से', 'आज', 'तक', 'हमारा', 'भारत', 'निरन्तर', 'विकास', 'के', 'पथ', 'पर', 'अग्रसर', 'हो', 'रहा', 'है।', 'आज', 'हमारे', 'राजनेता', 'भारत', 'को', 'शीघ्र', 'ही', 'महाशक्ति', 'बनाने', 'का', 'सपना', 'देखने', 'लगे', 'हैं।', 'विकास', 'के', 'विभिन्न', 'सोपान–देश', 'के', 'विकास', 'के', 'विभिन्न', 'सोपानों', 'को', 'निम्नलिखित', 'रूप', 'में', 'प्रस्तुत', 'किया', 'जा', 'सकता', 'है-'] \n",
            "\n",
            "Total count: 92\n"
          ],
          "name": "stdout"
        }
      ]
    },
    {
      "cell_type": "code",
      "metadata": {
        "colab": {
          "base_uri": "https://localhost:8080/"
        },
        "id": "6nC2K3OuhXnp",
        "outputId": "d2efa4da-3bc8-450d-fa51-a6fbecdb319a"
      },
      "source": [
        "stop = [w for w in stop_words if w in word_tokens]  \n",
        "print(\"StopWords recognized in the given sentence:\", stop,\"\\n\") "
      ],
      "execution_count": 25,
      "outputs": [
        {
          "output_type": "stream",
          "text": [
            "StopWords recognized in the given sentence: ['एक', 'और', 'का', 'किया', 'की', 'के', 'को', 'जा', 'तक', 'तब', 'पर', 'में', 'रहा', 'सकता', 'से', 'ही', 'हुआ', 'हो'] \n",
            "\n"
          ],
          "name": "stdout"
        }
      ]
    },
    {
      "cell_type": "code",
      "metadata": {
        "colab": {
          "base_uri": "https://localhost:8080/"
        },
        "id": "g-cZbQPyhdB8",
        "outputId": "3cc0ca31-6398-47fb-fd49-5596ff9d3d4a"
      },
      "source": [
        "filtered_sentence = [w for w in word_tokens if not w in stop_words]\n",
        "filtered_sentence = []  \n",
        "  \n",
        "for w in word_tokens:  \n",
        "    if w not in stop_words:  \n",
        "        filtered_sentence.append(w)  \n",
        "  \n",
        "print(\"After removing the recognized stopwords, the Tokens of sentence is:\", filtered_sentence)\n",
        "print(\"Total count after removin stopwords:\", len(filtered_sentence))"
      ],
      "execution_count": 28,
      "outputs": [
        {
          "output_type": "stream",
          "text": [
            "After removing the recognized stopwords, the Tokens of sentence is: ['प्रस्तावना–', '15', 'अगस्त', '1947', 'सैकड़ों', 'वर्षों', 'दमन', ',', 'अत्याचार', ',', 'शोषण', 'पराधीनता', '.', 'कुत्सित', 'पंक', 'पंकज', 'प्रस्फुटित', 'था–', '’', 'स्वतन्त्र–भारत', '’', ';', 'स्वतन्त्र', 'स्वाभिमान', 'गर्वोन्नत', 'भारत', ',', 'विश्वभर', 'स्वाधीनता', 'संग्रामों', 'आशाओं', 'आकाश–दीप', 'भारत।', 'आज', 'हमारा', 'भारत', 'निरन्तर', 'विकास', 'पथ', 'अग्रसर', 'है।', 'आज', 'हमारे', 'राजनेता', 'भारत', 'शीघ्र', 'महाशक्ति', 'बनाने', 'सपना', 'देखने', 'लगे', 'हैं।', 'विकास', 'विभिन्न', 'सोपान–देश', 'विकास', 'विभिन्न', 'सोपानों', 'निम्नलिखित', 'रूप', 'प्रस्तुत', 'है-']\n",
            "Total count after removin stopwords: 62\n"
          ],
          "name": "stdout"
        }
      ]
    },
    {
      "cell_type": "code",
      "metadata": {
        "id": "Op9CYRxchjJf"
      },
      "source": [
        ""
      ],
      "execution_count": null,
      "outputs": []
    }
  ]
}